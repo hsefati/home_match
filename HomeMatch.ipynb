{
 "cells": [
  {
   "cell_type": "markdown",
   "id": "a108af04",
   "metadata": {},
   "source": [
    "In This Notebook, we are building an AI Agent which is capable of recommeding you a real-estate based on your preferences."
   ]
  },
  {
   "cell_type": "code",
   "execution_count": null,
   "id": "6554fd4c",
   "metadata": {},
   "outputs": [],
   "source": [
    "# !pip install -r requirements.txt"
   ]
  },
  {
   "cell_type": "code",
   "execution_count": 13,
   "id": "7873fe00",
   "metadata": {},
   "outputs": [],
   "source": [
    "import os\n",
    "from utils import PropertyCollection\n",
    "from config import PropertyQuestionnaireConfig\n",
    "from langchain.output_parsers import PydanticOutputParser\n",
    "from langchain.chat_models import ChatOpenAI\n",
    "from langchain.vectorstores import Chroma\n",
    "from langchain.embeddings.openai import OpenAIEmbeddings\n",
    "from langchain.text_splitter import CharacterTextSplitter\n",
    "from langchain.document_loaders.csv_loader import CSVLoader\n",
    "from langchain.prompts import PromptTemplate\n",
    "from langchain.chains import LLMChain"
   ]
  },
  {
   "cell_type": "code",
   "execution_count": 2,
   "id": "748f0b5c",
   "metadata": {},
   "outputs": [],
   "source": [
    "os.environ[\"OPENAI_API_KEY\"] = \"voc-3536329941266772997668678e47bca8fda1.32828252\"\n",
    "os.environ[\"OPENAI_API_BASE\"] = \"https://openai.vocareum.com/v1\""
   ]
  },
  {
   "cell_type": "code",
   "execution_count": 4,
   "id": "5ba45313",
   "metadata": {},
   "outputs": [],
   "source": [
    "# Load the chatbot config\n",
    "chat_bot_config =PropertyQuestionnaireConfig()\n",
    "\n",
    "# PropertyCollection is implemented in utils\n",
    "parser = PydanticOutputParser(pydantic_object=PropertyCollection)"
   ]
  },
  {
   "cell_type": "code",
   "execution_count": null,
   "id": "c7da0525",
   "metadata": {},
   "outputs": [],
   "source": [
    "# Prompt template to generate real estate listings\n",
    "prompt = PromptTemplate(\n",
    "    template=\"{instruction}\\n{sample}\\n{format_instructions}\\n\",\n",
    "    input_variables=[\"instruction\", \"sample\"],\n",
    "    partial_variables={\"format_instructions\": parser.get_format_instructions},\n",
    ")\n",
    "\n",
    "# Generate the prompt\n",
    "query = prompt.format(\n",
    "    instruction=chat_bot_config.instruction,\n",
    "    sample=chat_bot_config.sample_listing,\n",
    ")"
   ]
  },
  {
   "cell_type": "code",
   "execution_count": null,
   "id": "34917ac7",
   "metadata": {},
   "outputs": [],
   "source": [
    "llm = ChatOpenAI(model=chat_bot_config.chat_bot_model temperature=0)\n",
    "# Invoke the model to generate real estate listings\n",
    "response = llm.invoke(query)"
   ]
  },
  {
   "cell_type": "code",
   "execution_count": null,
   "id": "779a0e0e",
   "metadata": {},
   "outputs": [
    {
     "data": {
      "text/html": [
       "<div>\n",
       "<style scoped>\n",
       "    .dataframe tbody tr th:only-of-type {\n",
       "        vertical-align: middle;\n",
       "    }\n",
       "\n",
       "    .dataframe tbody tr th {\n",
       "        vertical-align: top;\n",
       "    }\n",
       "\n",
       "    .dataframe thead th {\n",
       "        text-align: right;\n",
       "    }\n",
       "</style>\n",
       "<table border=\"1\" class=\"dataframe\">\n",
       "  <thead>\n",
       "    <tr style=\"text-align: right;\">\n",
       "      <th></th>\n",
       "      <th>location</th>\n",
       "      <th>price</th>\n",
       "      <th>num_bedrooms</th>\n",
       "      <th>num_bathrooms</th>\n",
       "      <th>square_footage</th>\n",
       "      <th>details</th>\n",
       "      <th>area_overview</th>\n",
       "    </tr>\n",
       "  </thead>\n",
       "  <tbody>\n",
       "    <tr>\n",
       "      <th>0</th>\n",
       "      <td>Green Oaks</td>\n",
       "      <td>800000</td>\n",
       "      <td>3</td>\n",
       "      <td>2</td>\n",
       "      <td>2000</td>\n",
       "      <td>Welcome to this eco-friendly oasis nestled in ...</td>\n",
       "      <td>Green Oaks is a close-knit, environmentally-co...</td>\n",
       "    </tr>\n",
       "    <tr>\n",
       "      <th>1</th>\n",
       "      <td>Downtown Loft District</td>\n",
       "      <td>1200000</td>\n",
       "      <td>2</td>\n",
       "      <td>2</td>\n",
       "      <td>1800</td>\n",
       "      <td>Luxury loft living in the heart of the city! T...</td>\n",
       "      <td>The Downtown Loft District is a vibrant neighb...</td>\n",
       "    </tr>\n",
       "    <tr>\n",
       "      <th>2</th>\n",
       "      <td>Suburban Meadows</td>\n",
       "      <td>600000</td>\n",
       "      <td>4</td>\n",
       "      <td>3</td>\n",
       "      <td>2500</td>\n",
       "      <td>Welcome home to this spacious 4-bedroom, 3-bat...</td>\n",
       "      <td>Suburban Meadows is a family-friendly communit...</td>\n",
       "    </tr>\n",
       "    <tr>\n",
       "      <th>3</th>\n",
       "      <td>Beachfront Paradise</td>\n",
       "      <td>1500000</td>\n",
       "      <td>5</td>\n",
       "      <td>4</td>\n",
       "      <td>3500</td>\n",
       "      <td>Live the beachfront dream in this stunning 5-b...</td>\n",
       "      <td>Beachfront Paradise offers a relaxed coastal v...</td>\n",
       "    </tr>\n",
       "    <tr>\n",
       "      <th>4</th>\n",
       "      <td>Mountain Retreat</td>\n",
       "      <td>900000</td>\n",
       "      <td>3</td>\n",
       "      <td>2</td>\n",
       "      <td>2200</td>\n",
       "      <td>Escape to this peaceful mountain retreat nestl...</td>\n",
       "      <td>The Mountain Retreat neighborhood is a nature ...</td>\n",
       "    </tr>\n",
       "  </tbody>\n",
       "</table>\n",
       "</div>"
      ],
      "text/plain": [
       "                 location    price  num_bedrooms  num_bathrooms  \\\n",
       "0              Green Oaks   800000             3              2   \n",
       "1  Downtown Loft District  1200000             2              2   \n",
       "2        Suburban Meadows   600000             4              3   \n",
       "3     Beachfront Paradise  1500000             5              4   \n",
       "4        Mountain Retreat   900000             3              2   \n",
       "\n",
       "   square_footage                                            details  \\\n",
       "0            2000  Welcome to this eco-friendly oasis nestled in ...   \n",
       "1            1800  Luxury loft living in the heart of the city! T...   \n",
       "2            2500  Welcome home to this spacious 4-bedroom, 3-bat...   \n",
       "3            3500  Live the beachfront dream in this stunning 5-b...   \n",
       "4            2200  Escape to this peaceful mountain retreat nestl...   \n",
       "\n",
       "                                       area_overview  \n",
       "0  Green Oaks is a close-knit, environmentally-co...  \n",
       "1  The Downtown Loft District is a vibrant neighb...  \n",
       "2  Suburban Meadows is a family-friendly communit...  \n",
       "3  Beachfront Paradise offers a relaxed coastal v...  \n",
       "4  The Mountain Retreat neighborhood is a nature ...  "
      ]
     },
     "execution_count": 60,
     "metadata": {},
     "output_type": "execute_result"
    }
   ],
   "source": [
    "from fastapi.encoders import jsonable_encoder\n",
    "import pandas as pd\n",
    "\n",
    "# Parse the response and convert it to a DataFrame\n",
    "parsed_result = parser.parse(response.content)\n",
    "df = pd.DataFrame(jsonable_encoder(parsed_result.properties))\n",
    "df.head()"
   ]
  },
  {
   "cell_type": "code",
   "execution_count": null,
   "id": "e8761f3b",
   "metadata": {},
   "outputs": [],
   "source": [
    "# Save the DataFrame to a CSV file\n",
    "df.to_csv('Real_Estate_Listings.csv', index_label = 'id')"
   ]
  },
  {
   "cell_type": "code",
   "execution_count": 5,
   "id": "c338475c",
   "metadata": {},
   "outputs": [],
   "source": [
    "# Load the real estate listing from Excel file\n",
    "\n",
    "loader = CSVLoader(file_path='./Real_Estate_Listings.csv')\n",
    "real_estate_listings = loader.load()"
   ]
  },
  {
   "cell_type": "code",
   "execution_count": 6,
   "id": "47900fc2",
   "metadata": {},
   "outputs": [
    {
     "name": "stderr",
     "output_type": "stream",
     "text": [
      "/tmp/ipykernel_6242/1271620779.py:1: LangChainDeprecationWarning: The class `OpenAIEmbeddings` was deprecated in LangChain 0.0.9 and will be removed in 1.0. An updated version of the class exists in the :class:`~langchain-openai package and should be used instead. To use it run `pip install -U :class:`~langchain-openai` and import as `from :class:`~langchain_openai import OpenAIEmbeddings``.\n",
      "  embeddings = OpenAIEmbeddings()\n"
     ]
    }
   ],
   "source": [
    "embeddings = OpenAIEmbeddings()\n",
    "\n",
    "# Split the real estate listings into chunks for faster processing\n",
    "splitter = CharacterTextSplitter(chunk_size=1000, chunk_overlap=0)\n",
    "split_docs = splitter.split_documents(real_estate_listings)\n",
    "\n",
    "# Create a vector store from the real estate listings with embedding function\n",
    "db = Chroma.from_documents(split_docs, embeddings)"
   ]
  },
  {
   "cell_type": "code",
   "execution_count": 7,
   "id": "e67dd607",
   "metadata": {},
   "outputs": [],
   "source": [
    "# Example of a search query for similarity search to get the best match\n",
    "search_query = \"A comfortable three-bedroom house with a spacious kitchen and a cozy living room.\"\n",
    "matched_real_estate = db.similarity_search(search_query, k=1)"
   ]
  },
  {
   "cell_type": "code",
   "execution_count": 8,
   "id": "5c9cdd95",
   "metadata": {},
   "outputs": [],
   "source": [
    "# Format questions and answers into a readable format\n",
    "formatted_qa = \"\\n\".join([f\"{q} {a}\" for q, a in zip(chat_bot_config.questions, chat_bot_config.answers)])\n",
    "\n",
    "# Format best real estate matches\n",
    "formatted_listings = \"\\n\".join([f\"{i+1}. {doc.page_content}\" for i, doc in enumerate(matched_real_estate)])\n",
    "\n",
    "# Define the recommender prompt (without memory)\n",
    "RECOMMENDER_TEMPLATE = \"\"\"\n",
    "Introduce yourself as AI Real Estate Agent and provide a tailored response to the buyer's preferences. withe following instructions:\n",
    "Based on the following answers, I recommend the following real estate listings:\n",
    "\n",
    "{formatted_qa}\n",
    "\n",
    "------------\n",
    "Here are the top matching listings:\n",
    "\n",
    "{formatted_listings}\n",
    "\n",
    "------------\n",
    "Formulate a reply that not only addresses the questions above, but also delivers an engaging, unique, and tailored explanation that resonates with the given preferences. This requires subtly highlighting key property features that closely match the buyer's desires.\n",
    "\"\"\"\n",
    "\n"
   ]
  },
  {
   "cell_type": "code",
   "execution_count": 9,
   "id": "5349135d",
   "metadata": {},
   "outputs": [
    {
     "name": "stderr",
     "output_type": "stream",
     "text": [
      "/tmp/ipykernel_6242/2443102680.py:2: LangChainDeprecationWarning: The class `ChatOpenAI` was deprecated in LangChain 0.0.10 and will be removed in 1.0. An updated version of the class exists in the :class:`~langchain-openai package and should be used instead. To use it run `pip install -U :class:`~langchain-openai` and import as `from :class:`~langchain_openai import ChatOpenAI``.\n",
      "  llm = ChatOpenAI(model_name=chat_bot_config.chat_bot_model, temperature=chat_bot_config.chat_bot_temp, max_tokens=chat_bot_config.chat_bot_max_tokens)\n"
     ]
    }
   ],
   "source": [
    "# Define the recommender prompt\n",
    "llm = ChatOpenAI(model_name=chat_bot_config.chat_bot_model, temperature=chat_bot_config.chat_bot_temp, max_tokens=chat_bot_config.chat_bot_max_tokens)"
   ]
  },
  {
   "cell_type": "code",
   "execution_count": null,
   "id": "912ed879",
   "metadata": {},
   "outputs": [
    {
     "name": "stderr",
     "output_type": "stream",
     "text": [
      "/tmp/ipykernel_6242/2582858599.py:11: LangChainDeprecationWarning: The class `LLMChain` was deprecated in LangChain 0.1.17 and will be removed in 1.0. Use :meth:`~RunnableSequence, e.g., `prompt | llm`` instead.\n",
      "  chain = LLMChain(llm=llm, prompt=PROMPT)\n"
     ]
    }
   ],
   "source": [
    "# Create the PromptTemplate\n",
    "PROMPT = PromptTemplate(\n",
    "    input_variables=[\"formatted_qa\", \"formatted_listings\"],\n",
    "    template=RECOMMENDER_TEMPLATE\n",
    ")\n",
    "\n",
    "# Initialize the LLMChain with the prompt\n",
    "chain = LLMChain(llm=llm, prompt=PROMPT)"
   ]
  },
  {
   "cell_type": "code",
   "execution_count": 11,
   "id": "aecd739c",
   "metadata": {},
   "outputs": [
    {
     "name": "stderr",
     "output_type": "stream",
     "text": [
      "/tmp/ipykernel_6242/217343661.py:2: LangChainDeprecationWarning: The method `Chain.run` was deprecated in langchain 0.1.0 and will be removed in 1.0. Use :meth:`~invoke` instead.\n",
      "  response = chain.run({\"formatted_qa\": formatted_qa, \"formatted_listings\": formatted_listings})\n"
     ]
    }
   ],
   "source": [
    "# Get the response from the chatbot\n",
    "response = chain.run({\"formatted_qa\": formatted_qa, \"formatted_listings\": formatted_listings})"
   ]
  },
  {
   "cell_type": "code",
   "execution_count": 12,
   "id": "6469bf3d",
   "metadata": {},
   "outputs": [
    {
     "name": "stdout",
     "output_type": "stream",
     "text": [
      "Hello there! I'm your AI Real Estate Agent, here to help you find your dream home. Based on your preferences, I have the perfect listing for you:\n",
      "\n",
      "Listing ID: 16 - Modern Townhouse\n",
      "Price: $800,000\n",
      "Bedrooms: 3\n",
      "Bathrooms: 2\n",
      "Square Footage: 2000\n",
      "\n",
      "This modern townhouse offers a comfortable three-bedroom layout with a spacious kitchen, perfect for cooking and entertaining. The cozy living room is ideal for relaxing after a long day. Located in a trendy urban neighborhood, you'll have access to restaurants and theaters while still enjoying suburban tranquility.\n",
      "\n",
      "In terms of your top priorities, this property is situated in a quiet neighborhood with good local schools nearby. You'll also have convenient shopping options just steps away. The backyard is perfect for gardening, and the two-car garage provides ample storage space. Plus, the modern, energy-efficient heating system will keep you comfortable year-round.\n",
      "\n",
      "For transportation, you'll have easy access to a reliable bus line, proximity to a major highway, and bike-friendly roads. The Modern Townhouse neighborhood offers a balance between urban amenities and suburban charm, giving you the best of both worlds.\n",
      "\n",
      "I hope this listing resonates with your preferences. Let me know if you'd like to schedule a viewing or if you have any other specific requirements in mind. I'm here to help you find the perfect home!\n"
     ]
    }
   ],
   "source": [
    "print(response)"
   ]
  },
  {
   "cell_type": "code",
   "execution_count": null,
   "id": "da1c8efc",
   "metadata": {},
   "outputs": [],
   "source": []
  }
 ],
 "metadata": {
  "kernelspec": {
   "display_name": ".venv",
   "language": "python",
   "name": "python3"
  },
  "language_info": {
   "codemirror_mode": {
    "name": "ipython",
    "version": 3
   },
   "file_extension": ".py",
   "mimetype": "text/x-python",
   "name": "python",
   "nbconvert_exporter": "python",
   "pygments_lexer": "ipython3",
   "version": "3.11.7"
  }
 },
 "nbformat": 4,
 "nbformat_minor": 5
}
